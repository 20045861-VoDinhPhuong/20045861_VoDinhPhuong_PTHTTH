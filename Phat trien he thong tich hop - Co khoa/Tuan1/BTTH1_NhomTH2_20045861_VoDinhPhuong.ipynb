{
 "cells": [
  {
   "cell_type": "markdown",
   "metadata": {},
   "source": [
    "# Họ và tên: VÕ Đình Phương\n",
    "# MSSV: 20045861\n",
    "# Lớp học phần - Nhóm TH: 2"
   ]
  },
  {
   "cell_type": "markdown",
   "metadata": {},
   "source": [
    "# 1. Hello world!"
   ]
  },
  {
   "cell_type": "code",
   "execution_count": 1,
   "metadata": {},
   "outputs": [
    {
     "name": "stdout",
     "output_type": "stream",
     "text": [
      "Hello World!\n"
     ]
    }
   ],
   "source": [
    "print('Hello World!')"
   ]
  },
  {
   "cell_type": "markdown",
   "metadata": {},
   "source": [
    "# 2. Program to Add Two Numbers"
   ]
  },
  {
   "cell_type": "markdown",
   "metadata": {},
   "source": [
    "## Add Two Numbers"
   ]
  },
  {
   "cell_type": "code",
   "execution_count": 4,
   "metadata": {},
   "outputs": [
    {
     "name": "stdout",
     "output_type": "stream",
     "text": [
      "Result: 7.8\n"
     ]
    }
   ],
   "source": [
    "num1 = 1.5\n",
    "num2 = 6.3\n",
    "\n",
    "### START CODE HERE ### \n",
    "# Add two numbers\n",
    "\n",
    "sum = num1+num2\n",
    "# Display the sum\n",
    "print(f\"Result: {sum}\")"
   ]
  },
  {
   "cell_type": "markdown",
   "metadata": {},
   "source": [
    "##  Add Two Numbers With User Input"
   ]
  },
  {
   "cell_type": "code",
   "execution_count": 5,
   "metadata": {},
   "outputs": [
    {
     "name": "stdout",
     "output_type": "stream",
     "text": [
      "The sum of 1.0 and 3.0 is: 4.0\n"
     ]
    }
   ],
   "source": [
    "# Store input numbers\n",
    "# Add two numbers\n",
    "\n",
    "### START CODE HERE ### \n",
    "# Get user input for the first number\n",
    "num1 = float(input(\"Enter the first number: \"))\n",
    "\n",
    "# Get user input for the second number\n",
    "num2 = float(input(\"Enter the second number: \"))\n",
    "\n",
    "# Calculate the sum\n",
    "sum_result = num1 + num2\n",
    "### END CODE HERE ###\n",
    "# Display the result\n",
    "print(f\"The sum of {num1} and {num2} is: {sum_result}\")\n"
   ]
  },
  {
   "cell_type": "markdown",
   "metadata": {},
   "source": [
    "# 3. Program to Find the Square Root"
   ]
  },
  {
   "cell_type": "code",
   "execution_count": 6,
   "metadata": {},
   "outputs": [
    {
     "name": "stdout",
     "output_type": "stream",
     "text": [
      "The square root of 8.0 is: 2.83\n"
     ]
    }
   ],
   "source": [
    "# Python Program to calculate the square root\n",
    "import math\n",
    "# Note: change this value for a different result \n",
    "num = float(input(\"Enter a number: \"))\n",
    "# To take the input from the user\n",
    "if num >= 0:\n",
    "    # Calculate the square root\n",
    "    square_root = math.sqrt(num)\n",
    "    print(f\"The square root of {num} is: {square_root:.2f}\")\n",
    "else:\n",
    "    print(\"Please enter a non-negative number.\")\n",
    "\n"
   ]
  },
  {
   "cell_type": "markdown",
   "metadata": {},
   "source": [
    "# 4. Program to Calculate the Area of a Triangle\n",
    "s = (a+b+c)/2\n",
    "\n",
    "area = √(s(s-a)*(s-b)*(s-c))"
   ]
  },
  {
   "cell_type": "code",
   "execution_count": 7,
   "metadata": {},
   "outputs": [
    {
     "name": "stdout",
     "output_type": "stream",
     "text": [
      "The area of the triangle is 5.33\n"
     ]
    }
   ],
   "source": [
    "### START CODE HERE ### \n",
    "import math\n",
    "# take inputs from the user\n",
    "\n",
    "\n",
    "# calculate the semi-perimeter\n",
    "s = (a+b+c)/2\n",
    "\n",
    "# calculate the area\n",
    "area = math.sqrt(s * (s - a) * (s - b) * (s - c))\n",
    "\n",
    "### END CODE HERE ###\n",
    "\n",
    "print('The area of the triangle is %0.2f' %area)\n",
    "\n"
   ]
  },
  {
   "cell_type": "markdown",
   "metadata": {},
   "source": [
    "# 5. Program to Solve Quadratic Equation\n",
    "ax2 + bx + c = 0, where a, b and c are real numbers and a ≠ 0"
   ]
  },
  {
   "cell_type": "code",
   "execution_count": 9,
   "metadata": {},
   "outputs": [
    {
     "name": "stdout",
     "output_type": "stream",
     "text": [
      "The complex solutions are: x1 = (-0.6666666666666666+1.3743685418725535j) and x2 = (-0.6666666666666666-1.3743685418725535j)\n"
     ]
    }
   ],
   "source": [
    "import cmath\n",
    "\n",
    "### START CODE HERE ### \n",
    "\n",
    "# take inputs from the user\n",
    "a = float(input(\"Enter the length of side a: \"))\n",
    "b = float(input(\"Enter the length of side b: \"))\n",
    "c = float(input(\"Enter the length of side c: \"))\n",
    "\n",
    "# calculate the discriminant\n",
    "d = b**2 - 4*a*c\n",
    "\n",
    "\n",
    "# find two solutions using square root for real/complex number\n",
    "if d >= 0:\n",
    "    x1 = (-b + math.sqrt(d)) / (2*a)\n",
    "    x2 = (-b - math.sqrt(d)) / (2*a)\n",
    "    print(f\"The real solutions are: x1 = {x1:.2f} and x2 = {x2:.2f}\")\n",
    "else:\n",
    "    # Calculate complex solutions\n",
    "    real_part = -b / (2*a)\n",
    "    imaginary_part = math.sqrt(abs(d)) / (2*a)\n",
    "    solution1 = complex(real_part, imaginary_part)\n",
    "    solution2 = complex(real_part, -imaginary_part)\n",
    "    \n",
    "### END CODE HERE ###\n",
    "\n",
    "print(f\"The complex solutions are: x1 = {solution1} and x2 = {solution2}\")"
   ]
  },
  {
   "cell_type": "markdown",
   "metadata": {},
   "source": [
    "# 6. Program to Swap Two Variables"
   ]
  },
  {
   "cell_type": "code",
   "execution_count": 10,
   "metadata": {},
   "outputs": [
    {
     "name": "stdout",
     "output_type": "stream",
     "text": [
      "Before swapping: a = 2, b = 5\n",
      "After swapping: a = 5, b = 2\n"
     ]
    }
   ],
   "source": [
    "\n",
    "\n",
    "# Get user input for the first variable\n",
    "a = input(\"Enter the value of variable 'a': \")\n",
    "\n",
    "# Get user input for the second variable\n",
    "b = input(\"Enter the value of variable 'b': \")\n",
    "\n",
    "# Print the original values\n",
    "print(f\"Before swapping: a = {a}, b = {b}\")\n",
    "\n",
    "# Swap the values of 'a' and 'b'\n",
    "a, b = b, a\n",
    "\n",
    "# Print the swapped values\n",
    "print(f\"After swapping: a = {a}, b = {b}\")\n"
   ]
  },
  {
   "cell_type": "code",
   "execution_count": 11,
   "metadata": {},
   "outputs": [
    {
     "name": "stdout",
     "output_type": "stream",
     "text": [
      "Memory address of x: 140717153772616\n",
      "Memory address of y: 2264121778352\n",
      "Memory address of temp: 2264121477120\n"
     ]
    }
   ],
   "source": [
    "### START CODE HERE ### \n",
    "# writing code to get the address (in RAM) of x, y, temp through the built-in function id()\n",
    "# Define some variables\n",
    "x = 10\n",
    "y = \"Hello\"\n",
    "temp = [1, 2, 3]\n",
    "\n",
    "# Get memory addresses using id()\n",
    "address_x = id(x)\n",
    "address_y = id(y)\n",
    "address_temp = id(temp)\n",
    "\n",
    "# Print the memory addresses\n",
    "print(f\"Memory address of x: {address_x}\")\n",
    "print(f\"Memory address of y: {address_y}\")\n",
    "print(f\"Memory address of temp: {address_temp}\")\n",
    "\n",
    "### END CODE HERE ###"
   ]
  },
  {
   "cell_type": "markdown",
   "metadata": {},
   "source": [
    "# 7. Program to Generate a Random Number\n",
    "https://docs.python.org/3/library/random.html"
   ]
  },
  {
   "cell_type": "code",
   "execution_count": 15,
   "metadata": {},
   "outputs": [
    {
     "name": "stdout",
     "output_type": "stream",
     "text": [
      "4\n",
      "Random number: 43\n",
      "2\n",
      "5\n",
      "0.5458481246590409\n",
      "36.15575710357549\n"
     ]
    }
   ],
   "source": [
    "# Program to generate a random number between 0 and 9\n",
    "\n",
    "# importing the random module\n",
    "import random\n",
    "\n",
    "print(random.randint(0,9))\n",
    "\n",
    "# Define the range\n",
    "min_value = 1\n",
    "max_value = 100  # Adjust this range as needed\n",
    "\n",
    "# Generate a random number between min_value and max_value (inclusive)\n",
    "random_number = random.randint(min_value, max_value)\n",
    "\n",
    "# Print the random number\n",
    "print(\"Random number:\", random_number)\n",
    "\n",
    "\n",
    "# Uncomment to try different function in random module\n",
    "print(random.randrange(9))\n",
    "print(random.randrange(3,9))\n",
    "print(random.random())\n",
    "print(random.uniform(min_value,max_value))\n",
    "\n",
    "\n"
   ]
  },
  {
   "cell_type": "markdown",
   "metadata": {},
   "source": [
    "# 8. Program to Convert Kilometers to Miles\n",
    "1 km = (1/1.609344) mi = 0.62137119 mi"
   ]
  },
  {
   "cell_type": "code",
   "execution_count": 16,
   "metadata": {},
   "outputs": [
    {
     "name": "stdout",
     "output_type": "stream",
     "text": [
      "123.00 kilometers is equal to 76.43 miles\n"
     ]
    }
   ],
   "source": [
    "# Taking kilometers input from the user\n",
    "kilometers = float(input(\"Enter value in kilometers: \"))\n",
    "\n",
    "# conversion factor\n",
    "conv_fac = 0.621371\n",
    "\n",
    "# calculate miles\n",
    "miles = kilometers * conv_fac\n",
    "print('%0.2f kilometers is equal to %0.2f miles' %(kilometers,miles))"
   ]
  },
  {
   "cell_type": "code",
   "execution_count": 17,
   "metadata": {},
   "outputs": [
    {
     "name": "stdout",
     "output_type": "stream",
     "text": [
      "345.0 miles is equal to 555.2236819991606 kilometers\n"
     ]
    }
   ],
   "source": [
    "### START CODE HERE ### \n",
    "# writing code to convert miles to kilometers\n",
    "\n",
    "# Function to convert miles to kilometers\n",
    "def miles_to_kilometers(miles):\n",
    "    kilometers = miles / 0.62137119\n",
    "    return kilometers\n",
    "\n",
    "# Input: Distance in miles\n",
    "miles = float(input(\"Enter distance in miles: \"))\n",
    "\n",
    "# Convert miles to kilometers\n",
    "kilometers = miles_to_kilometers(miles)\n",
    "\n",
    "# Display the result\n",
    "print(f\"{miles} miles is equal to {kilometers} kilometers\")\n",
    "\n",
    "### END CODE HERE ###"
   ]
  },
  {
   "cell_type": "markdown",
   "metadata": {},
   "source": [
    "# 9. Program to Convert Celsius To Fahrenheit\n",
    "T(°F) = T(°C) × 1.8 + 32"
   ]
  },
  {
   "cell_type": "code",
   "execution_count": 18,
   "metadata": {},
   "outputs": [
    {
     "name": "stdout",
     "output_type": "stream",
     "text": [
      "456.0 degrees Celsius is equal to 852.8000000000001 degrees Fahrenheit\n"
     ]
    }
   ],
   "source": [
    "### START CODE HERE ### \n",
    "\n",
    "\n",
    "# Function to convert Celsius to Fahrenheit\n",
    "def celsius_to_fahrenheit(celsius):\n",
    "    fahrenheit = celsius * 1.8 + 32\n",
    "    return fahrenheit\n",
    "\n",
    "# Taking celsius input from the user\n",
    "celsius = float(input(\"Enter temperature in Celsius: \"))\n",
    "\n",
    "# Convert Celsius to Fahrenheit\n",
    "fahrenheit = celsius_to_fahrenheit(celsius)\n",
    "\n",
    "# Display the result\n",
    "print(f\"{celsius} degrees Celsius is equal to {fahrenheit} degrees Fahrenheit\")\n",
    "\n",
    "\n",
    "### END CODE HERE ###"
   ]
  }
 ],
 "metadata": {
  "kernelspec": {
   "display_name": "Python 3",
   "language": "python",
   "name": "python3"
  },
  "language_info": {
   "codemirror_mode": {
    "name": "ipython",
    "version": 3
   },
   "file_extension": ".py",
   "mimetype": "text/x-python",
   "name": "python",
   "nbconvert_exporter": "python",
   "pygments_lexer": "ipython3",
   "version": "3.11.5"
  }
 },
 "nbformat": 4,
 "nbformat_minor": 2
}
