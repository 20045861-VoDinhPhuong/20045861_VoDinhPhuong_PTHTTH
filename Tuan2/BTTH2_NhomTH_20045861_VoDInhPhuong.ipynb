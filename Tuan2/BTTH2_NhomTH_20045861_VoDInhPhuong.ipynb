{
 "cells": [
  {
   "cell_type": "markdown",
   "metadata": {},
   "source": [
    "MSSV: 20045861  \n",
    "\n",
    "Họ và tên: Võ Đình Phương\n",
    "\n",
    "Lớp học phần: DHCNTT16A\n",
    "\n",
    "Nhóm thực hành: Nhóm2"
   ]
  },
  {
   "cell_type": "markdown",
   "metadata": {},
   "source": [
    "# 1. Decision Making and Loops\n",
    "---"
   ]
  },
  {
   "cell_type": "markdown",
   "metadata": {},
   "source": [
    "## 1.1. Viết chương trình kiểm tra một số là số dương, số âm hay bằng không không.\n",
    "\n",
    "Sử dụng 2 dạng của câu lệnh rễ nhánh: \n",
    "\n",
    "if ... elif ... else\n",
    "\n",
    "Nested if"
   ]
  },
  {
   "cell_type": "code",
   "execution_count": null,
   "metadata": {},
   "outputs": [],
   "source": [
    "\n",
    "a = float(input(\"Nhập vào một số: \"))\n",
    "\n",
    "if (a >0):\n",
    "    print('Số dương')\n",
    "elif (a < 0):\n",
    "    print('Số âm')\n",
    "else:\n",
    "    print('Số bằng không')"
   ]
  },
  {
   "cell_type": "code",
   "execution_count": null,
   "metadata": {},
   "outputs": [],
   "source": [
    "# Dạng 2: Nested if\n",
    "\n",
    "\n",
    "### START CODE HERE ### \n",
    "\n",
    "i = float(input(\"Nhập vào một số: \"))\n",
    "\n",
    "if (i < 0):\n",
    "\n",
    "        print (\"i là số dương\")\n",
    "\n",
    "if (i < 0):\n",
    "        print (\"i là số âm\")\n",
    "else:\n",
    "        print (\"i bằng không\")\n",
    "\n",
    "### END CODE HERE ###"
   ]
  },
  {
   "cell_type": "markdown",
   "metadata": {},
   "source": [
    "## 1.2. Viết chương trình kiểm tra một năm có phải năm nhuận không.\n",
    "\n",
    "Năm nhuận là năm chia hết cho 4, trừ những năm đầu thế kỷ (chia hết cho 100). Những năm đầu thế kỷ là năm nhuận khi nó chia hết cho 400 (ví dụ năm 2100 không phải là năm nhuận, 2104 là năm nhuận).\n",
    "\n",
    "Sử dụng 2 dạng của câu lệnh rễ nhánh: \n",
    "\n",
    "if ... elif ... else\n",
    "\n",
    "Nested if"
   ]
  },
  {
   "cell_type": "code",
   "execution_count": 6,
   "metadata": {},
   "outputs": [
    {
     "name": "stdout",
     "output_type": "stream",
     "text": [
      "2332 là năm nhuận\n"
     ]
    }
   ],
   "source": [
    "# Sử dụng lệnh if lồng nhau\n",
    "year = int(input(\"Nhập năm: \"))\n",
    "\n",
    "if (year % 4) == 0:\n",
    "    if (year % 100) == 0:\n",
    "        if (year % 400) == 0:\n",
    "            print(\"{0} là năm nhuận\".format(year))\n",
    "        else:\n",
    "            print(\"{0} không phải là năm nhuận\".format(year))\n",
    "    else:\n",
    "        print(\"{0} là năm nhuận\".format(year))\n",
    "else:\n",
    "    print(\"{0} không phải là năm nhuận\".format(year))"
   ]
  },
  {
   "cell_type": "code",
   "execution_count": 5,
   "metadata": {},
   "outputs": [
    {
     "name": "stdout",
     "output_type": "stream",
     "text": [
      "2002 is không phải năm nhuận\n"
     ]
    }
   ],
   "source": [
    "# Sử dụng lệnh if ... elif ... else\n",
    "year = int(input(\"Nhập năm: \"))\n",
    "\n",
    "### START CODE HERE ### \n",
    "\n",
    "if (year%400 == 0):\n",
    "    print(\"{0} là năm nhuận \".format(year))\n",
    "elif (year%100 == 0):\n",
    "    print(\"{0} không là năm nhuận\" .format(year))\n",
    "elif (year%4 == 0):\n",
    "    print(\"{0}là năm nhuận\" .format(year))\n",
    "else:\n",
    "    print(\"{0} is không phải năm nhuận\".format(year))\n",
    "    \n",
    "### END CODE HERE ###"
   ]
  },
  {
   "cell_type": "markdown",
   "metadata": {},
   "source": [
    "## 1.3. Viết chương trình kiểm tra một số nguyên có phải số nguyên tố không. Nếu không phải là số nguyên tố in ra lý do."
   ]
  },
  {
   "cell_type": "code",
   "execution_count": 4,
   "metadata": {},
   "outputs": [
    {
     "name": "stdout",
     "output_type": "stream",
     "text": [
      "2 is a prime number\n"
     ]
    }
   ],
   "source": [
    "num = int(input(\"Enter a number: \"))\n",
    "\n",
    "flag = False\n",
    "\n",
    "if num == 1:\n",
    "    print(num, \"is not a prime number\")\n",
    "elif num > 1:\n",
    "    # check for factors\n",
    "    for i in range(2, num):\n",
    "        if (num % i) == 0:\n",
    "            # if factor is found, set flag to True\n",
    "            flag = True\n",
    "            # break out of loop\n",
    "            break\n",
    "\n",
    "    # check if flag is True\n",
    "    if flag:\n",
    "        print(num, \"is not a prime number\")\n",
    "    else:\n",
    "        print(num, \"is a prime number\")"
   ]
  },
  {
   "cell_type": "markdown",
   "metadata": {},
   "source": [
    "## 1.4. Viết chương trình in ra tất cả các số nguyên tố trong khoảng (a,b)"
   ]
  },
  {
   "cell_type": "code",
   "execution_count": 1,
   "metadata": {},
   "outputs": [
    {
     "name": "stdout",
     "output_type": "stream",
     "text": [
      "Prime numbers between 900 and 1000 are:\n",
      "907\n",
      "911\n",
      "919\n",
      "929\n",
      "937\n",
      "941\n",
      "947\n",
      "953\n",
      "967\n",
      "971\n",
      "977\n",
      "983\n",
      "991\n",
      "997\n"
     ]
    }
   ],
   "source": [
    "# Python program to display all the prime numbers within an interval\n",
    "\n",
    "lower = 900\n",
    "upper = 1000\n",
    "\n",
    "print(\"Prime numbers between\", lower, \"and\", upper, \"are:\")\n",
    "\n",
    "for num in range(lower, upper + 1):\n",
    "    if num > 1:\n",
    "        ### START CODE HERE ### \n",
    "        # Sử dụng for ... else\n",
    "         for i in range(2, num):\n",
    "           if (num % i) == 0:\n",
    "               break\n",
    "         else:\n",
    "           print(num)\n",
    "\n",
    "        ### END CODE HERE ###"
   ]
  },
  {
   "cell_type": "markdown",
   "metadata": {},
   "source": [
    "## 1.5. Viết chương trình in ra 5 số Armstrong bé nhất.\n",
    "\n",
    "Một số nguyên dương gồm n chữ số được gọi là số Armstrong bậc n nếu\n",
    "\n",
    "abcd... = a^n + b^n + c^n + d^n + ...\n",
    "\n",
    "VD: 153 = 1*1*1 + 5*5*5 + 3*3*3 "
   ]
  },
  {
   "cell_type": "code",
   "execution_count": 10,
   "metadata": {},
   "outputs": [
    {
     "name": "stdout",
     "output_type": "stream",
     "text": [
      "1\n",
      "2\n",
      "3\n",
      "4\n",
      "5\n"
     ]
    }
   ],
   "source": [
    "\n",
    "def is_armstrong_number(n):\n",
    "    num_str = str(n)\n",
    "    num_digits = len(num_str)\n",
    "    armstrong_sum = 0\n",
    "     \n",
    "    for digit in num_str:\n",
    "        armstrong_sum += int(digit) ** num_digits\n",
    "     \n",
    "    if armstrong_sum == n:\n",
    "        return True\n",
    "    else:\n",
    "        return False\n",
    " \n",
    "# Kiểm tra các số từ 1 đến 1000\n",
    "for i in range(1, 6):\n",
    "    if is_armstrong_number(i):\n",
    "        print(i)"
   ]
  },
  {
   "cell_type": "markdown",
   "metadata": {},
   "source": [
    "# 2. Functions\n",
    "---"
   ]
  },
  {
   "cell_type": "markdown",
   "metadata": {},
   "source": [
    "## 2.1. Viết hàm nhận vào một số nguyên, trả về giá trị True nếu nó là số nguyên tố, và False nếu nó không phải là số nguyên tố.\n",
    "\n",
    "Sử dụng code của Bài 1.3"
   ]
  },
  {
   "cell_type": "code",
   "execution_count": 2,
   "metadata": {},
   "outputs": [],
   "source": [
    "def prime(n):\n",
    "    ### START CODE HERE ### \n",
    "    # Sử dụng code của Bài 1.3\n",
    "    if n <= 1:\n",
    "        return False\n",
    "    for i in range(2, n):\n",
    "        if n % i == 0:\n",
    "            return False\n",
    "    return True\n",
    "    ### END CODE HERE ###"
   ]
  },
  {
   "cell_type": "markdown",
   "metadata": {},
   "source": [
    "Kiểm tra hoạt động của hàm prime(n) đã viết"
   ]
  },
  {
   "cell_type": "code",
   "execution_count": 3,
   "metadata": {},
   "outputs": [
    {
     "name": "stdout",
     "output_type": "stream",
     "text": [
      "2 là số nguyên tố\n"
     ]
    }
   ],
   "source": [
    "n = int(input(\"Nhập vào một số:\"))\n",
    "if prime(n):\n",
    "    print(n, 'là số nguyên tố')\n",
    "else:\n",
    "    print(n, 'không phải là số nguyên tố')"
   ]
  },
  {
   "cell_type": "markdown",
   "metadata": {},
   "source": [
    "## 2.2. Viết hàm nhận vào một số nguyên, trả về giá trị True nếu nó là số Armstrong, và False nếu nó không phải là số Armstrong.\n",
    "\n",
    "Sử dụng code của Bài 1.5"
   ]
  },
  {
   "cell_type": "code",
   "execution_count": 11,
   "metadata": {},
   "outputs": [],
   "source": [
    "def armstrong(n):\n",
    "    ### START CODE HERE ### \n",
    "    # Sử dụng code của Bài 1.5\n",
    "    num_str = str(n)\n",
    "    num_digits = len(num_str)\n",
    "    armstrong_sum = 0\n",
    "     \n",
    "    for digit in num_str:\n",
    "        armstrong_sum += int(digit) ** num_digits\n",
    "     \n",
    "    if armstrong_sum == n:\n",
    "        return True\n",
    "    else:\n",
    "        return False\n",
    "    ### END CODE HERE ###"
   ]
  },
  {
   "cell_type": "markdown",
   "metadata": {},
   "source": [
    "Kiểm tra hoạt động của hàm armstrong(n) đã viết"
   ]
  },
  {
   "cell_type": "code",
   "execution_count": 12,
   "metadata": {},
   "outputs": [
    {
     "name": "stdout",
     "output_type": "stream",
     "text": [
      "153 là số armstrong\n"
     ]
    }
   ],
   "source": [
    "n = 153\n",
    "# n = 35\n",
    "if armstrong(n):\n",
    "    print(n, 'là số armstrong')\n",
    "else:\n",
    "    print(n, 'không phải là số armstrong')"
   ]
  },
  {
   "cell_type": "markdown",
   "metadata": {},
   "source": [
    "## 2.3. Sử dụng hàm Lambda để in ra 10 lũy thừa đầu tiên của 2."
   ]
  },
  {
   "cell_type": "code",
   "execution_count": 15,
   "metadata": {},
   "outputs": [
    {
     "name": "stdout",
     "output_type": "stream",
     "text": [
      "[10, 14, 44, 194, 108, 124, 154, 46, 146, 122, 200, 446, 1090, 2828, 4624, 1112]\n"
     ]
    }
   ],
   "source": [
    "# Display the powers of 2 using anonymous function\n",
    "li = [5, 7, 22, 97, 54, 62, 77, 23, 73, 61,100,223,545,1414,2312,556]\n",
    "\n",
    "# use anonymous/lambda function\n",
    "final_list = list(map(lambda x: x*2 , li))\n",
    "\n",
    "print(final_list)"
   ]
  },
  {
   "cell_type": "markdown",
   "metadata": {},
   "source": [
    "## 2.4. Sử dụng hàm Lambda để in ra 10 số chính phương đầu tiên"
   ]
  },
  {
   "cell_type": "code",
   "execution_count": 18,
   "metadata": {},
   "outputs": [
    {
     "ename": "IndentationError",
     "evalue": "expected an indented block after function definition on line 1 (2431661238.py, line 2)",
     "output_type": "error",
     "traceback": [
      "\u001b[1;36m  Cell \u001b[1;32mIn[18], line 2\u001b[1;36m\u001b[0m\n\u001b[1;33m    li = [5, 7, 22, 97, 54, 62, 77, 23, 73, 61,100,223,545,1414, 2312, 556]\u001b[0m\n\u001b[1;37m    ^\u001b[0m\n\u001b[1;31mIndentationError\u001b[0m\u001b[1;31m:\u001b[0m expected an indented block after function definition on line 1\n"
     ]
    }
   ],
   "source": [
    "\n",
    "def find_square_number_2(n):\n",
    "li = [5, 7, 22, 97, 54, 62, 77, 23, 73, 61,100,223,545,1414, 2312, 556]\n",
    "\n",
    "# use anonymous function\n",
    "\n",
    "    ### START CODE HERE ### \n",
    "    # Sử dụng kết hợp với hàm map()\n",
    "flag = 0;\n",
    "if (n ** .5).is_integer(): ##  if (math.sqrt(n)).is_integer():\n",
    "        flag = 1\n",
    "return flag\n",
    "final_list = list(map((n ** .5).is_integer() , flag))\n",
    "    ### END CODE HERE ###\n",
    "\n",
    "for i in range(terms):\n",
    "    print(result[x])"
   ]
  },
  {
   "cell_type": "markdown",
   "metadata": {},
   "source": [
    "## 2.5. Sử dụng hàm Lambda để in ra các số lẻ trong một dãy"
   ]
  },
  {
   "cell_type": "code",
   "execution_count": 13,
   "metadata": {},
   "outputs": [
    {
     "name": "stdout",
     "output_type": "stream",
     "text": [
      "Các số lẻ trong dãy [65, 39, 339, 221]\n"
     ]
    }
   ],
   "source": [
    "# Take a list of numbers\n",
    "my_list = [12, 65, 54, 39, 102, 339, 221,]\n",
    "\n",
    "# use anonymous function to filter\n",
    "result = list(filter(lambda x: (x % 2 == 1), my_list))\n",
    "\n",
    "# display the result\n",
    "print(\"Các số lẻ trong dãy\",result)"
   ]
  },
  {
   "cell_type": "markdown",
   "metadata": {},
   "source": [
    "## 2.5. Sử dụng hàm filter() để in ra các số nguyên tố trong một dãy"
   ]
  },
  {
   "cell_type": "code",
   "execution_count": 2,
   "metadata": {},
   "outputs": [
    {
     "name": "stdout",
     "output_type": "stream",
     "text": [
      "[2, 3, 5, 7]\n"
     ]
    },
    {
     "ename": "NameError",
     "evalue": "name 'general_list' is not defined",
     "output_type": "error",
     "traceback": [
      "\u001b[1;31m---------------------------------------------------------------------------\u001b[0m",
      "\u001b[1;31mNameError\u001b[0m                                 Traceback (most recent call last)",
      "Cell \u001b[1;32mIn[2], line 26\u001b[0m\n\u001b[0;32m     24\u001b[0m       \u001b[39mreturn\u001b[39;00m \u001b[39mTrue\u001b[39;00m\n\u001b[0;32m     25\u001b[0m   \u001b[39melse\u001b[39;00m: \u001b[39mreturn\u001b[39;00m \u001b[39mFalse\u001b[39;00m\n\u001b[1;32m---> 26\u001b[0m \u001b[39mprint\u001b[39m([x \u001b[39mfor\u001b[39;00m x \u001b[39min\u001b[39;00m general_list \u001b[39mif\u001b[39;00m is_prime(x)])\n",
      "\u001b[1;31mNameError\u001b[0m: name 'general_list' is not defined"
     ]
    }
   ],
   "source": [
    "# Take a list of numbers\n",
    "def find_prime(n):\n",
    "       if n <=1:\n",
    "         return False\n",
    "       else:\n",
    "          for i in range(2, n):\n",
    "              if n % i == 0:\n",
    "                  return False\n",
    "       return True\n",
    "n = 10\n",
    "x = filter(find_prime, range(n)) #you can give random no list too\n",
    "print(list(x))\n",
    "n = [12, 65, 54, 39, 102, 339, 221,]\n",
    "\n",
    "# định nghĩa hàm nhận vào một số nguyên,\n",
    "# trả về giá trị True nếu nó là số nguyên tố,\n",
    "# và False nếu nó không phải là số nguyên tố.\n",
    "\n",
    "def is_prime(n):\n",
    "  if n>1:\n",
    "      for i in range(2,int(n**0.5)+1):\n",
    "         if n%i==0: \n",
    "            return False\n",
    "      return True\n",
    "  else: return False\n",
    "print([x for x in general_list if is_prime(x)])"
   ]
  }
 ],
 "metadata": {
  "kernelspec": {
   "display_name": "Python 3",
   "language": "python",
   "name": "python3"
  },
  "language_info": {
   "codemirror_mode": {
    "name": "ipython",
    "version": 3
   },
   "file_extension": ".py",
   "mimetype": "text/x-python",
   "name": "python",
   "nbconvert_exporter": "python",
   "pygments_lexer": "ipython3",
   "version": "3.11.5"
  }
 },
 "nbformat": 4,
 "nbformat_minor": 2
}
